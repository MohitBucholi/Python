{
 "cells": [
  {
   "cell_type": "markdown",
   "metadata": {},
   "source": [
    "<H2> PYTHON <H2>"
   ]
  },
  {
   "cell_type": "markdown",
   "metadata": {},
   "source": [
    "Python is just like another language's like Hindi, English, Tmail, etc.\n",
    "Python is a Programming language to communicate with computer's. Python is way to instruct the computer to perform a task\n",
    "\n",
    "## Some Feature of Python\n",
    "1. Easy to understand\n",
    "2. Free and opensource\n",
    "3. High-level language\n",
    "4. Portable work on Window/mac/linux"
   ]
  },
  {
   "cell_type": "code",
   "execution_count": 1,
   "metadata": {},
   "outputs": [
    {
     "name": "stdout",
     "output_type": "stream",
     "text": [
      "Write Here: for Print\n"
     ]
    }
   ],
   "source": [
    "# print something\n",
    "print(\"Write Here: for Print\")"
   ]
  },
  {
   "cell_type": "markdown",
   "metadata": {},
   "source": [
    "### Variable\n",
    "-----------\n",
    "A Variable is a name given to memory location in a program\n",
    "                            OR\n",
    "Data or value can be stored in temporary storage space is know as variable\n",
    "\n",
    "#### Rules for defining a variable name\n",
    "1. It conatain alphabets, digit & underscore.\n",
    "2. Variable name start from alphabets & underscore.\n",
    "3. No space is allowed to used inside the variable_name.\n",
    "4. Variable's are case sensitive.\n",
    "\n",
    "##### Keywords: \n",
    "                Reserved words in Python\n",
    "##### Identifiers:\n",
    "                    Class/ Funcation/ Variable name\n",
    "\n",
    "### Data-type\n",
    "----------\n",
    "1. Text:    str\n",
    "2. Numeric:     int, float, complex\n",
    "3. Sequence:    list, tuple, range\n",
    "4. Mapping:     dict\n",
    "5. Set:      set, frozenset\n",
    "6. Bollean:     bool"
   ]
  },
  {
   "cell_type": "code",
   "execution_count": 2,
   "metadata": {},
   "outputs": [
    {
     "data": {
      "text/plain": [
       "str"
      ]
     },
     "execution_count": 2,
     "metadata": {},
     "output_type": "execute_result"
    }
   ],
   "source": [
    "# \"#\" is single line comment\n",
    "\"\"\"\n",
    "    This is multi-line \n",
    "    comment\n",
    "\"\"\"\n",
    "x = \"Bucholi\"      # x variable contain a text value that data type is 'str'\n",
    "type(x)"
   ]
  },
  {
   "cell_type": "code",
   "execution_count": 3,
   "metadata": {},
   "outputs": [
    {
     "name": "stdout",
     "output_type": "stream",
     "text": [
      "<class 'float'>\n",
      "<class 'str'>\n"
     ]
    }
   ],
   "source": [
    "y1 = 4.2 \n",
    "y2 = '4.2'\n",
    "# Note: y1 is not equal to y2\n",
    "\"\"\" \n",
    "    y1 is 'float data type'\n",
    "    y2 is 'str' data type   \"\"\"\n",
    "print(type(y1))\n",
    "print(type(y2))"
   ]
  },
  {
   "cell_type": "markdown",
   "metadata": {},
   "source": [
    "#### Casting:\n",
    "------\n",
    "               The process to convert the value of data-type to another data-type."
   ]
  },
  {
   "cell_type": "code",
   "execution_count": 4,
   "metadata": {},
   "outputs": [
    {
     "data": {
      "text/plain": [
       "float"
      ]
     },
     "execution_count": 4,
     "metadata": {},
     "output_type": "execute_result"
    }
   ],
   "source": [
    "# In above 'y2' is 'str' data-type we can convert into 'float' type. but not into integer \n",
    "y2 = float(y2)\n",
    "type(y2) "
   ]
  },
  {
   "cell_type": "markdown",
   "metadata": {},
   "source": [
    "If you have a collection of values in a list, tuples etc. python allows you to extract the values \n",
    "into variable that's called unpacking"
   ]
  },
  {
   "cell_type": "code",
   "execution_count": 6,
   "metadata": {},
   "outputs": [
    {
     "name": "stdout",
     "output_type": "stream",
     "text": [
      "<class 'list'>\n",
      "apple\n",
      "banana\n",
      "cherry\n"
     ]
    }
   ],
   "source": [
    "fruit = [\"apple\", \"banana\", \"cherry\"]\n",
    "print(type(fruit))\n",
    "x,y,z = fruit\n",
    "print(x)\n",
    "print(y)\n",
    "print(z)"
   ]
  },
  {
   "cell_type": "code",
   "execution_count": 9,
   "metadata": {},
   "outputs": [
    {
     "data": {
      "text/plain": [
       "'Mohit Bucholi'"
      ]
     },
     "execution_count": 9,
     "metadata": {},
     "output_type": "execute_result"
    }
   ],
   "source": [
    "# add some string's\n",
    "x = \"Mohit\"\n",
    "y = \"Bucholi\"\n",
    "z = x + \" \" + y\n",
    "z\n",
    "# we add string's only when both variables are string \n"
   ]
  },
  {
   "cell_type": "markdown",
   "metadata": {},
   "source": [
    "### Input Function\n",
    "------------------------------\n",
    "                    The function allow's the user to take input from the keyboard as a string \"input()\"\n"
   ]
  },
  {
   "cell_type": "code",
   "execution_count": 10,
   "metadata": {},
   "outputs": [
    {
     "data": {
      "text/plain": [
       "str"
      ]
     },
     "execution_count": 10,
     "metadata": {},
     "output_type": "execute_result"
    }
   ],
   "source": [
    "a = input(\"write here: something regarding input\")\n",
    "type(a)"
   ]
  },
  {
   "cell_type": "markdown",
   "metadata": {},
   "source": [
    "<h1> String:"
   ]
  },
  {
   "cell_type": "markdown",
   "metadata": {},
   "source": [
    "##### A string is a sequence of character enclosed in quotes\n",
    "1. a = 'MOHIT'\n",
    "2. b = \"Bucholi\"\n",
    "3. c = \"\"\" CSE\"\"\""
   ]
  },
  {
   "cell_type": "code",
   "execution_count": 13,
   "metadata": {},
   "outputs": [
    {
     "name": "stdout",
     "output_type": "stream",
     "text": [
      "5\n"
     ]
    },
    {
     "data": {
      "text/plain": [
       "'Moh'"
      ]
     },
     "execution_count": 13,
     "metadata": {},
     "output_type": "execute_result"
    }
   ],
   "source": [
    "x = \"Mohit\"\n",
    "print(len(x))         # 'len()' function return the length\n",
    "\n",
    "# [start_index : end_index(not include)] is use to access a part of string\n",
    "\"\"\" index: suppose--->\n",
    " string 'MOHIT\"\n",
    " INDEX    STR    -ive index\n",
    "  0        M        -5\n",
    "  2        O        -4\n",
    "  3        H        -3\n",
    "  4        I        -2\n",
    "  5        T        -1\n",
    "                \"\"\"\n",
    "x[0:3]     "
   ]
  },
  {
   "cell_type": "code",
   "execution_count": 15,
   "metadata": {},
   "outputs": [
    {
     "name": "stdout",
     "output_type": "stream",
     "text": [
      "True\n",
      "False\n"
     ]
    }
   ],
   "source": [
    "x = \"This is a python file written by Mohit Bucholi CSE\"\n",
    "# Check 'Mohit' is present in 'x' or not\n",
    "print('Mohit'in x )  # this is present\n",
    "print(\"that\" in x)   # this is not present"
   ]
  },
  {
   "cell_type": "code",
   "execution_count": 20,
   "metadata": {},
   "outputs": [
    {
     "name": "stdout",
     "output_type": "stream",
     "text": [
      "python \n",
      "Bucholi\n",
      "file written by Mohit Bucholi CSE\n",
      "This is a python file written \n"
     ]
    }
   ],
   "source": [
    "# string slicing\n",
    "x = \"This is a python file written by Mohit Bucholi CSE\"\n",
    "print(x[10:17])     # slicing with +ive index\n",
    "\n",
    "print(x[-11:-4])     #slicing with -ive index\n",
    "\n",
    "print(x[17:])     #slicing with index(17) to the end of string\n",
    "\n",
    "print(x[:30])    #slicing from the start of string to the given_index"
   ]
  },
  {
   "cell_type": "code",
   "execution_count": 23,
   "metadata": {},
   "outputs": [
    {
     "data": {
      "text/plain": [
       "30"
      ]
     },
     "execution_count": 23,
     "metadata": {},
     "output_type": "execute_result"
    }
   ],
   "source": [
    "# some other main funcation to perform operation on a string\n",
    "x = \"This is a python file written by Mohit Bucholi CSE\"\n",
    "len(x)\n",
    "x.endswith(\"CSE\")   # it give you boolean value\n",
    "x.startswith(\"his\")  # it give you boolean value\n",
    "x.count(\"is\")       #it give you interger value\n",
    "x.find(\"by\")        #it give you index\n",
    "x.replace(\"old_word\",\"new_word\")"
   ]
  },
  {
   "cell_type": "markdown",
   "metadata": {},
   "source": [
    "<h1> List:"
   ]
  },
  {
   "cell_type": "markdown",
   "metadata": {},
   "source": [
    "##### List are used to store multiple values items in a single variable\n",
    "It allow's duplicates, indexed and contain different data-type"
   ]
  },
  {
   "cell_type": "code",
   "execution_count": 29,
   "metadata": {},
   "outputs": [
    {
     "name": "stdout",
     "output_type": "stream",
     "text": [
      "<class 'list'>\n"
     ]
    },
    {
     "data": {
      "text/plain": [
       "5"
      ]
     },
     "execution_count": 29,
     "metadata": {},
     "output_type": "execute_result"
    }
   ],
   "source": [
    "l = [\"shiva\", 4.2,\"ravi\", 26, True]\n",
    "print(type(l))\n",
    "len(l)"
   ]
  },
  {
   "cell_type": "code",
   "execution_count": 32,
   "metadata": {},
   "outputs": [
    {
     "name": "stdout",
     "output_type": "stream",
     "text": [
      "ravi\n",
      "[4.2, 'ravi']\n"
     ]
    }
   ],
   "source": [
    "# list is indexed just like string\n",
    "#  l['index']   l: l is list\n",
    "print(l[2])\n",
    "print(l[1:3])  "
   ]
  },
  {
   "cell_type": "code",
   "execution_count": 36,
   "metadata": {},
   "outputs": [
    {
     "data": {
      "text/plain": [
       "['vishnu', 4.2, 'ravi', 26, True]"
      ]
     },
     "execution_count": 36,
     "metadata": {},
     "output_type": "execute_result"
    }
   ],
   "source": [
    "# update list using []\n",
    "l = [\"shiva\", 4.2,\"ravi\", 26, True]\n",
    "l[0] = \"vishnu\"    # change the value of index '0' into 'vishnu'\n",
    "l"
   ]
  },
  {
   "cell_type": "code",
   "execution_count": 38,
   "metadata": {},
   "outputs": [
    {
     "data": {
      "text/plain": [
       "[0, 2, 3, 4.2, 5, 6, 7, 9, 10, 26, 45]"
      ]
     },
     "execution_count": 38,
     "metadata": {},
     "output_type": "execute_result"
    }
   ],
   "source": [
    "# some other main funcation to perform operation on a List\n",
    "l = [5,9,2,7,45,0,3, 4.2, 10, 26, 6]\n",
    "l.sort()\n",
    "l"
   ]
  },
  {
   "cell_type": "code",
   "execution_count": 40,
   "metadata": {},
   "outputs": [
    {
     "data": {
      "text/plain": [
       "[0, 2, 3, 4.2, 5, 6, 7, 9, 10, 26, 45]"
      ]
     },
     "execution_count": 40,
     "metadata": {},
     "output_type": "execute_result"
    }
   ],
   "source": [
    "l.reverse()\n",
    "l"
   ]
  },
  {
   "cell_type": "code",
   "execution_count": 41,
   "metadata": {},
   "outputs": [
    {
     "data": {
      "text/plain": [
       "[0, 2, 3, 4.2, 5, 6, 7, 9, 10, 26, 45, 'ravi']"
      ]
     },
     "execution_count": 41,
     "metadata": {},
     "output_type": "execute_result"
    }
   ],
   "source": [
    "# add a new element into list at the end of list\n",
    "l.append(\"ravi\")\n",
    "l"
   ]
  },
  {
   "cell_type": "code",
   "execution_count": 42,
   "metadata": {},
   "outputs": [
    {
     "data": {
      "text/plain": [
       "[0, 2, 'mohit', 3, 4.2, 5, 6, 7, 9, 10, 26, 45, 'ravi']"
      ]
     },
     "execution_count": 42,
     "metadata": {},
     "output_type": "execute_result"
    }
   ],
   "source": [
    "# add a new element into list at the specific index of list\n",
    "#l.insert(index,\"value\")\n",
    "l.insert(2,\"mohit\")\n",
    "l"
   ]
  },
  {
   "cell_type": "code",
   "execution_count": 43,
   "metadata": {},
   "outputs": [
    {
     "data": {
      "text/plain": [
       "[0, 2, 'mohit', 3, 4.2, 5, 6, 7, 9, 10, 26, 45]"
      ]
     },
     "execution_count": 43,
     "metadata": {},
     "output_type": "execute_result"
    }
   ],
   "source": [
    "# l.pop() remove the last item from the list, if we pass index it remove item from the index\n",
    "l.pop()\n",
    "l"
   ]
  },
  {
   "cell_type": "code",
   "execution_count": 44,
   "metadata": {},
   "outputs": [
    {
     "data": {
      "text/plain": [
       "[0, 2, 3, 4.2, 5, 6, 7, 9, 10, 26, 45]"
      ]
     },
     "execution_count": 44,
     "metadata": {},
     "output_type": "execute_result"
    }
   ],
   "source": [
    "# l.remove(item) remove particular item\n",
    "l.remove(\"mohit\")\n",
    "l"
   ]
  },
  {
   "cell_type": "code",
   "execution_count": 45,
   "metadata": {},
   "outputs": [],
   "source": [
    "# l.index(\"item\")  return the index of item\n",
    "# l.count(\"item\")\n",
    "# l.clear()         it make the list empty\n",
    "del l   # delete the list"
   ]
  },
  {
   "cell_type": "markdown",
   "metadata": {},
   "source": [
    "<h1> Tuple:"
   ]
  },
  {
   "cell_type": "markdown",
   "metadata": {},
   "source": [
    "Tuples are used to store-multiple items in one variable\n",
    "A tuple is ordered and un-changeable and written in ()\n",
    "1. a = (1)   This is not tuple\n",
    "2. a = (1,)   This is tuple"
   ]
  },
  {
   "cell_type": "code",
   "execution_count": 48,
   "metadata": {},
   "outputs": [
    {
     "name": "stdout",
     "output_type": "stream",
     "text": [
      "<class 'tuple'>\n"
     ]
    },
    {
     "data": {
      "text/plain": [
       "5"
      ]
     },
     "execution_count": 48,
     "metadata": {},
     "output_type": "execute_result"
    }
   ],
   "source": [
    "t = (4,5,0.1,\"ravi\", True)\n",
    "print(type(t))\n",
    "len(t)"
   ]
  },
  {
   "cell_type": "code",
   "execution_count": 49,
   "metadata": {},
   "outputs": [
    {
     "name": "stdout",
     "output_type": "stream",
     "text": [
      "(4, 5, 0.1, 'ravi')\n"
     ]
    },
    {
     "data": {
      "text/plain": [
       "1"
      ]
     },
     "execution_count": 49,
     "metadata": {},
     "output_type": "execute_result"
    }
   ],
   "source": [
    "# we can only access the tuple we can't update a tuple\n",
    "print(t[0:4])\n",
    "# t3 = t1 + t2   join two tuples\n",
    "t.count(5)  # t.count(item)\n",
    "# t.index(item)"
   ]
  },
  {
   "cell_type": "markdown",
   "metadata": {},
   "source": [
    "We update the tuple only when 1st convert the 'tuple' into 'list' and perform operations like remove, append, del,etc. Then again convert into tuple"
   ]
  },
  {
   "cell_type": "code",
   "execution_count": 50,
   "metadata": {},
   "outputs": [
    {
     "data": {
      "text/plain": [
       "(4, 5, 'ravi', True)"
      ]
     },
     "execution_count": 50,
     "metadata": {},
     "output_type": "execute_result"
    }
   ],
   "source": [
    "t = (4,5,0.1,\"ravi\", True)\n",
    "t = list(t)   # convert into list\n",
    "t.remove(0.1)\n",
    "t = tuple(t)\n",
    "t"
   ]
  },
  {
   "cell_type": "markdown",
   "metadata": {},
   "source": [
    "<h1> Dictionary:"
   ]
  },
  {
   "cell_type": "markdown",
   "metadata": {},
   "source": [
    "##### Dictionary is a collection of key-value pairs. unorderd, changeable, does't allow duplicate, written with curly brackets\n"
   ]
  },
  {
   "cell_type": "code",
   "execution_count": 52,
   "metadata": {},
   "outputs": [
    {
     "data": {
      "text/plain": [
       "dict"
      ]
     },
     "execution_count": 52,
     "metadata": {},
     "output_type": "execute_result"
    }
   ],
   "source": [
    "# d = {\"key\":\"value\"}\n",
    "d = {\"name\": \"vishnu\", 'adress':\"vakuant\",\"wepon\":'chakra'}\n",
    "type(d)"
   ]
  },
  {
   "cell_type": "code",
   "execution_count": 55,
   "metadata": {},
   "outputs": [
    {
     "name": "stdout",
     "output_type": "stream",
     "text": [
      "vishnu\n"
     ]
    },
    {
     "data": {
      "text/plain": [
       "{'name': 'vishnu', 'adress': 'vakuant', 'wepon': 'bow_arrow'}"
      ]
     },
     "execution_count": 55,
     "metadata": {},
     "output_type": "execute_result"
    }
   ],
   "source": [
    "# we use key instead of index\n",
    "print(d[\"name\"])\n",
    "# update the dict & add new key and value\n",
    "d[\"wepon\"] =\"bow_arrow\"\n",
    "d"
   ]
  },
  {
   "cell_type": "code",
   "execution_count": 56,
   "metadata": {},
   "outputs": [
    {
     "data": {
      "text/plain": [
       "dict_items([('name', 'vishnu'), ('adress', 'vakuant'), ('wepon', 'bow_arrow')])"
      ]
     },
     "execution_count": 56,
     "metadata": {},
     "output_type": "execute_result"
    }
   ],
   "source": [
    "d.keys()    # it give the list of key\n",
    "d.values()  # it give the list of values\n",
    "d.items()   # it give the list of items"
   ]
  },
  {
   "cell_type": "code",
   "execution_count": 58,
   "metadata": {},
   "outputs": [
    {
     "data": {
      "text/plain": [
       "' \\nd.get()      # to access the value using key\\nd.update()    # update the value\\nd.pop()        # is used to remove the  specific key\\nd.popitem()      # remove the last inserted item\\nd.clear()     # make empty the d\\ndel d      # delete the d\\n'"
      ]
     },
     "execution_count": 58,
     "metadata": {},
     "output_type": "execute_result"
    }
   ],
   "source": [
    "\"\"\" \n",
    "d.get()      # to access the value using key\n",
    "d.update()    # update the value\n",
    "d.pop()        # is used to remove the  specific key\n",
    "d.popitem()      # remove the last inserted item\n",
    "d.clear()     # make empty the d\n",
    "del d      # delete the d\n",
    "\"\"\""
   ]
  },
  {
   "cell_type": "markdown",
   "metadata": {},
   "source": [
    "<h1> Set:"
   ]
  },
  {
   "cell_type": "markdown",
   "metadata": {},
   "source": [
    "Set are used to store multiple items in one variable. unorderd, unindexed, written in { }, unchangeable & doen't include duplicate"
   ]
  },
  {
   "cell_type": "code",
   "execution_count": 62,
   "metadata": {},
   "outputs": [
    {
     "name": "stdout",
     "output_type": "stream",
     "text": [
      "<class 'set'>\n"
     ]
    },
    {
     "data": {
      "text/plain": [
       "7"
      ]
     },
     "execution_count": 62,
     "metadata": {},
     "output_type": "execute_result"
    }
   ],
   "source": [
    "t = {4,6,9,21,3,0,7}\n",
    "print(type(t))\n",
    "len(t)"
   ]
  },
  {
   "cell_type": "code",
   "execution_count": 66,
   "metadata": {},
   "outputs": [
    {
     "data": {
      "text/plain": [
       "{0, 3, 4, 6, 7, 9, 21, 32}"
      ]
     },
     "execution_count": 66,
     "metadata": {},
     "output_type": "execute_result"
    }
   ],
   "source": [
    "# once a set is created, you can't change its items, but you can add new items\n",
    "t.add(32)\n",
    "t"
   ]
  },
  {
   "cell_type": "code",
   "execution_count": 67,
   "metadata": {},
   "outputs": [
    {
     "data": {
      "text/plain": [
       "{3, 4, 6, 7, 9, 21, 32}"
      ]
     },
     "execution_count": 67,
     "metadata": {},
     "output_type": "execute_result"
    }
   ],
   "source": [
    "\"\"\" \n",
    "    t.remove(item)     remove the item from set\n",
    "    t.pop()             it reomove any item from the set\n",
    "    t.clear()           make the set is empty\n",
    "    del t                delete the set\n",
    "    \"\"\""
   ]
  },
  {
   "cell_type": "markdown",
   "metadata": {},
   "source": [
    "<h1> If( ), Elif( ), Else( )"
   ]
  },
  {
   "cell_type": "markdown",
   "metadata": {},
   "source": [
    "##### we use 'if()' statement to run the code under the given statement. if the given condition is True otherwise check elif() \n",
    "##### Both if(), elif() condition are not satified then else() statement run"
   ]
  },
  {
   "cell_type": "code",
   "execution_count": 88,
   "metadata": {},
   "outputs": [
    {
     "name": "stdout",
     "output_type": "stream",
     "text": [
      "x is greter than 10 & less than 15\n"
     ]
    }
   ],
   "source": [
    "x = 11\n",
    "if x<= 10:\n",
    "    print(\"x is less than equal to 10\")\n",
    "elif x<=15:                                      # elif statement only and only after if \n",
    "    print(\"x is greter than 10 & less than 15\")\n",
    "else:\n",
    "    print(\"x is greater than 15\")"
   ]
  },
  {
   "cell_type": "markdown",
   "metadata": {},
   "source": [
    "<h1> Loop in Python"
   ]
  },
  {
   "cell_type": "markdown",
   "metadata": {},
   "source": [
    "Some time we want to repeat a set of program. Loops make it easy for a programmer to tell the computer, which set of instruction to repeat and how"
   ]
  },
  {
   "cell_type": "code",
   "execution_count": 90,
   "metadata": {},
   "outputs": [
    {
     "name": "stdout",
     "output_type": "stream",
     "text": [
      "1\n",
      "2\n",
      "3\n",
      "4\n",
      "5\n",
      "6\n",
      "7\n",
      "8\n",
      "9\n",
      "10\n"
     ]
    }
   ],
   "source": [
    "x = 1\n",
    "while x<=10:  # while (condition):\n",
    "    print(x)\n",
    "    x = x+1             # update the value of x otherwise acc to given condition loop never end because the condition doesn't change "
   ]
  },
  {
   "cell_type": "code",
   "execution_count": 92,
   "metadata": {},
   "outputs": [
    {
     "name": "stdout",
     "output_type": "stream",
     "text": [
      "0\n",
      "1\n",
      "2\n",
      "3\n",
      "4\n",
      "5\n",
      "6\n",
      "7\n",
      "8\n",
      "9\n"
     ]
    }
   ],
   "source": [
    "# range() is a generator in python\n",
    "for i in range(10):\n",
    "    print(i)"
   ]
  },
  {
   "cell_type": "markdown",
   "metadata": {},
   "source": [
    "### Break & continue in loops"
   ]
  },
  {
   "cell_type": "code",
   "execution_count": 93,
   "metadata": {},
   "outputs": [
    {
     "name": "stdout",
     "output_type": "stream",
     "text": [
      "1\n",
      "2\n",
      "3\n"
     ]
    }
   ],
   "source": [
    "x = 1\n",
    "while x<=10:\n",
    "    if x == 4:          # if x = 4, then loop break it will stop \n",
    "        break\n",
    "    print(x)\n",
    "    x = x+1"
   ]
  },
  {
   "cell_type": "code",
   "execution_count": 94,
   "metadata": {},
   "outputs": [
    {
     "name": "stdout",
     "output_type": "stream",
     "text": [
      "0\n",
      "1\n",
      "2\n",
      "3\n",
      "5\n"
     ]
    }
   ],
   "source": [
    "for i in range(6):\n",
    "    if i == 4:             # if x = 4 it will start from begning\n",
    "        continue\n",
    "    print(i)"
   ]
  },
  {
   "cell_type": "markdown",
   "metadata": {},
   "source": [
    "<h1>Function in python"
   ]
  },
  {
   "cell_type": "markdown",
   "metadata": {},
   "source": [
    "##### A function is a block of code which only runs when it is call. it can be use number of times in a program.\n",
    " 'def' keyword is use to creat a function. 'def fun_name(arguments):'"
   ]
  },
  {
   "cell_type": "code",
   "execution_count": 98,
   "metadata": {},
   "outputs": [
    {
     "data": {
      "text/plain": [
       "30"
      ]
     },
     "execution_count": 98,
     "metadata": {},
     "output_type": "execute_result"
    }
   ],
   "source": [
    "def mult_num(x,y):\n",
    "    return (x*y)\n",
    "\n",
    "# call a function\n",
    "mult_num(5,6) # we have to give only two arguments not more and not less"
   ]
  },
  {
   "cell_type": "code",
   "execution_count": 99,
   "metadata": {},
   "outputs": [
    {
     "data": {
      "text/plain": [
       "21"
      ]
     },
     "execution_count": 99,
     "metadata": {},
     "output_type": "execute_result"
    }
   ],
   "source": [
    "def add_num(*arg):  # we use * before the argument then we give multiple values in argument when calling the funcation\n",
    "    return sum(arg)\n",
    "\n",
    "add_num(4,5,9,3)"
   ]
  },
  {
   "cell_type": "markdown",
   "metadata": {},
   "source": [
    "#### Recursion \n",
    "Recursion is a function which call itself. and it is use direcly use a mathematical formula as a function."
   ]
  },
  {
   "cell_type": "code",
   "execution_count": 97,
   "metadata": {},
   "outputs": [
    {
     "data": {
      "text/plain": [
       "15"
      ]
     },
     "execution_count": 97,
     "metadata": {},
     "output_type": "execute_result"
    }
   ],
   "source": [
    "def rec(n):\n",
    "    if n>0:\n",
    "        result = n +rec(n-1)\n",
    "    else:\n",
    "        result = 0\n",
    "    return result\n",
    "#call a function\n",
    "rec(5)"
   ]
  },
  {
   "cell_type": "markdown",
   "metadata": {},
   "source": [
    "<h1> Lambda Function"
   ]
  },
  {
   "cell_type": "markdown",
   "metadata": {},
   "source": [
    "A lambda function is a small anoymous function. Anoymous function is a function that define without a name while normal function are defined using the def keyword in python. A lambda function have any number of arguments, but only one expresion"
   ]
  },
  {
   "cell_type": "code",
   "execution_count": 100,
   "metadata": {},
   "outputs": [
    {
     "data": {
      "text/plain": [
       "10"
      ]
     },
     "execution_count": 100,
     "metadata": {},
     "output_type": "execute_result"
    }
   ],
   "source": [
    "x = lambda a,b,c:a+b+c\n",
    "x(4,5,1)"
   ]
  },
  {
   "cell_type": "markdown",
   "metadata": {},
   "source": [
    "<h1> OOPs in Python"
   ]
  },
  {
   "cell_type": "markdown",
   "metadata": {},
   "source": [
    "1. class class_name:\n",
    "2. obj = class_name()\n",
    "##### class: is just like a template of a form and\n",
    "##### object: suppose some one fill the template(form). now this is an object"
   ]
  },
  {
   "cell_type": "code",
   "execution_count": 103,
   "metadata": {},
   "outputs": [
    {
     "name": "stdout",
     "output_type": "stream",
     "text": [
      "google\n",
      "3k\n"
     ]
    }
   ],
   "source": [
    "class Employee:\n",
    "    company = \"google\"\n",
    "    def getsalary(self):\n",
    "        print(\"3k\")\n",
    "\n",
    "obj = Employee()\n",
    "print(obj.company)\n",
    "obj.getsalary()\n",
    "# here, self is Employee.getsalary(obj)"
   ]
  },
  {
   "cell_type": "markdown",
   "metadata": {},
   "source": [
    "##### __init__() constructor:\n",
    "it take a self agrument and further agrument"
   ]
  },
  {
   "cell_type": "code",
   "execution_count": 104,
   "metadata": {},
   "outputs": [
    {
     "name": "stdout",
     "output_type": "stream",
     "text": [
      "google\n",
      "the salary of ravi is 3600\n"
     ]
    }
   ],
   "source": [
    "class Employee:\n",
    "    company = \"google\"\n",
    "    def __init__(self,name,age,gender,salary):\n",
    "        self.name = name\n",
    "        self.age =  age\n",
    "        self.gender = gender\n",
    "        self.salary = salary\n",
    "    def getsalary(self):\n",
    "        print(f\"the salary of {self.name} is {self.salary}\")\n",
    "\n",
    "obj = Employee(\"ravi\",25,\"M\",3600)\n",
    "print(obj.company)\n",
    "obj.getsalary()"
   ]
  },
  {
   "cell_type": "markdown",
   "metadata": {},
   "source": [
    "<h1> Inheritance in Python"
   ]
  },
  {
   "cell_type": "markdown",
   "metadata": {},
   "source": [
    "Inheritance is way of creating a new class from an existing class, we use methods and attribute of parent class. also overwrite or add new attribute and methods in a class"
   ]
  },
  {
   "cell_type": "code",
   "execution_count": 106,
   "metadata": {},
   "outputs": [],
   "source": [
    "class Vehicle:\n",
    "    wheeler = \"two_wheeler\"\n",
    "    def __init__(self):\n",
    "        self.fuel = \"petrol\"\n",
    "        self.fuel_amount = 1500\n",
    "        self.break_type = \"hydrolic\"\n",
    "\n",
    "class Bus(Vehicle):\n",
    "    company = \"tata\"\n",
    "    def __init__(self,capcity,model):\n",
    "        self.capcity = capcity\n",
    "        self.model = model\n",
    "    \n",
    "class Car(Vehicle):\n",
    "    company =\" maruti\"\n",
    "    def __init__(self,fuel,model,power):\n",
    "        self.fuel = fuel\n",
    "        self.model = model\n",
    "        self.power = power\n",
    "\n",
    "\n",
    "rodways =Bus(70,2021)\n",
    "car = Car(\"cng\",2022,700)"
   ]
  },
  {
   "cell_type": "code",
   "execution_count": 111,
   "metadata": {},
   "outputs": [
    {
     "name": "stdout",
     "output_type": "stream",
     "text": [
      "two_wheeler\n",
      "2021\n",
      "cng\n",
      "700\n"
     ]
    }
   ],
   "source": [
    "print(rodways.wheeler)\n",
    "print(rodways.model)\n",
    "print(car.fuel)\n",
    "print(car.power)"
   ]
  }
 ],
 "metadata": {
  "interpreter": {
   "hash": "5c8a7a553ce91d77c6733e151ce4889e0ba9b48b7babcd392ee923e8343d96a9"
  },
  "kernelspec": {
   "display_name": "Python 3.9.5 64-bit",
   "language": "python",
   "name": "python3"
  },
  "language_info": {
   "codemirror_mode": {
    "name": "ipython",
    "version": 3
   },
   "file_extension": ".py",
   "mimetype": "text/x-python",
   "name": "python",
   "nbconvert_exporter": "python",
   "pygments_lexer": "ipython3",
   "version": "3.9.5"
  },
  "orig_nbformat": 4
 },
 "nbformat": 4,
 "nbformat_minor": 2
}
