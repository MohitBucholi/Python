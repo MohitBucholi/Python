{
 "cells": [
  {
   "cell_type": "markdown",
   "metadata": {},
   "source": [
    "<h1> Advance Python"
   ]
  },
  {
   "cell_type": "markdown",
   "metadata": {},
   "source": [
    "#### Error Handling in Python"
   ]
  },
  {
   "cell_type": "code",
   "execution_count": null,
   "metadata": {},
   "outputs": [],
   "source": [
    "\"\"\"\n",
    "try:\n",
    "    code\n",
    "    print(\"run alright\")\n",
    "except:\n",
    "    print(\"something wrong\")\n",
    "finally:\n",
    "    print(\"that always run\")\n",
    "\n",
    "we put our code in 'try' block if some error occur then, 'except' statement run otherwise not\n",
    "'finally' statement always run either error occur or not\n",
    "\"\"\""
   ]
  },
  {
   "cell_type": "code",
   "execution_count": 1,
   "metadata": {},
   "outputs": [
    {
     "name": "stdout",
     "output_type": "stream",
     "text": [
      "Check the value of x and y\n",
      "do again\n"
     ]
    }
   ],
   "source": [
    "x = 10       # int\n",
    "y = \"abc\"    # str\n",
    "# if we add 'x' and 'y' it give error\n",
    "try:\n",
    "    print(x+y)\n",
    "    print('Done')\n",
    "except:\n",
    "    print('Check the value of x and y')\n",
    "\n",
    "finally:\n",
    "    print('do again')"
   ]
  },
  {
   "cell_type": "code",
   "execution_count": 2,
   "metadata": {},
   "outputs": [
    {
     "name": "stdout",
     "output_type": "stream",
     "text": [
      "17\n",
      "Done\n",
      "do again\n"
     ]
    }
   ],
   "source": [
    "x = 10       # int\n",
    "y = 7        # int\n",
    "# if we add 'x' and 'y' it don't give error\n",
    "try:\n",
    "    print(x+y)\n",
    "    print('Done')\n",
    "except:\n",
    "    print('Check the value of x and y')\n",
    "\n",
    "finally:\n",
    "    print('do again')"
   ]
  },
  {
   "cell_type": "markdown",
   "metadata": {},
   "source": [
    "#### Testing tool\n",
    "1. Pylint:(must be import)\n",
    "2. Unittest (inbulit)\n",
    "_________________"
   ]
  },
  {
   "cell_type": "markdown",
   "metadata": {},
   "source": [
    "#### Modules:\n",
    "Modules is a file containing code written by someone else. which can be imported and used in our program. ' import module_name'\n",
    "____________________________________"
   ]
  },
  {
   "cell_type": "markdown",
   "metadata": {},
   "source": [
    "#### PIP:\n",
    "pip is a package manager for python. you can use pip to install modules in your sysytem. 'pip install module_name'\n",
    "____________________"
   ]
  },
  {
   "cell_type": "code",
   "execution_count": 3,
   "metadata": {},
   "outputs": [],
   "source": [
    "# \"pip install numpy\" run this command in the terminal of 'ide' like pycharm, vscode and you can also run in 'cmd'\n",
    "import numpy\n",
    "# now you able to class's and function of numpy"
   ]
  },
  {
   "cell_type": "markdown",
   "metadata": {},
   "source": [
    "#### Decorator's in Python (@)"
   ]
  },
  {
   "cell_type": "code",
   "execution_count": 11,
   "metadata": {},
   "outputs": [
    {
     "name": "stdout",
     "output_type": "stream",
     "text": [
      "start fun1\n",
      "some thing else\n",
      "last fun1\n"
     ]
    }
   ],
   "source": [
    "def fun1(x):\n",
    "    print(\"start fun1\")\n",
    "    x()\n",
    "    print(\"last fun1\")\n",
    "\n",
    "@fun1                 # use decorator\n",
    "def fun2():\n",
    "    print(\"some thing else\")"
   ]
  },
  {
   "cell_type": "markdown",
   "metadata": {},
   "source": [
    "#### Some important modules"
   ]
  },
  {
   "cell_type": "markdown",
   "metadata": {},
   "source": [
    "#### counter:\n",
    "It count the same(duplicates) values and return a dict-type"
   ]
  },
  {
   "cell_type": "code",
   "execution_count": 17,
   "metadata": {},
   "outputs": [
    {
     "data": {
      "text/plain": [
       "Counter({'ravi': 1, True: 4, False: 3, 45: 2, 2: 5})"
      ]
     },
     "execution_count": 17,
     "metadata": {},
     "output_type": "execute_result"
    }
   ],
   "source": [
    "from collections import Counter\n",
    "l = [ \"ravi\",True,False,45,1,2,False,2,2, True,2,45,1,2, False]\n",
    "# use counter on list l. \n",
    "Counter(l)\n",
    "\n",
    "# it give a dict that show \"ravi\" has 1 time, True are 4 times, False are 3 times and etc."
   ]
  },
  {
   "cell_type": "code",
   "execution_count": 19,
   "metadata": {},
   "outputs": [
    {
     "data": {
      "text/plain": [
       "[(2, 5), (True, 4), (False, 3), (45, 2), ('ravi', 1)]"
      ]
     },
     "execution_count": 19,
     "metadata": {},
     "output_type": "execute_result"
    }
   ],
   "source": [
    "# some other operation on counter\n",
    "sum(Counter(l).values())\n",
    "Counter(l).items\n",
    "Counter(l).most_common()\n",
    "\"\"\"\n",
    "Counter(l).clear()\n",
    "list(Counter(l))\n",
    "set(Counter(l))\n",
    "\"\"\""
   ]
  },
  {
   "cell_type": "markdown",
   "metadata": {},
   "source": [
    "#### Nametuple:\n",
    "nametuple is also a kind of tuple. some time the code is too long and we miss from mind what index we gave for \"name\", \"age\" and etc.\n",
    "nametuple make is eassy for us. "
   ]
  },
  {
   "cell_type": "code",
   "execution_count": 20,
   "metadata": {},
   "outputs": [
    {
     "data": {
      "text/plain": [
       "'mohit'"
      ]
     },
     "execution_count": 20,
     "metadata": {},
     "output_type": "execute_result"
    }
   ],
   "source": [
    "from collections import namedtuple\n",
    "t = (21, \"mohit\", 'B.Tech')\n",
    "t [1]               # for access the name we use the index 1, for age it will be 0 and for department it will be 2."
   ]
  },
  {
   "cell_type": "code",
   "execution_count": 24,
   "metadata": {},
   "outputs": [
    {
     "name": "stdout",
     "output_type": "stream",
     "text": [
      "BTech\n",
      "21\n",
      "mohit\n"
     ]
    },
    {
     "data": {
      "text/plain": [
       "'mohit'"
      ]
     },
     "execution_count": 24,
     "metadata": {},
     "output_type": "execute_result"
    }
   ],
   "source": [
    "t1 =namedtuple(\"student\",['name','age','department'])\n",
    "# here student is a class\n",
    "a =t1(\"mohit\",21,'BTech')\n",
    "print(a.department)\n",
    "print(a.age)\n",
    "print(a.name)\n",
    "a[0]                # also access with INDEX"
   ]
  },
  {
   "cell_type": "markdown",
   "metadata": {},
   "source": [
    "#### DateTime"
   ]
  },
  {
   "cell_type": "code",
   "execution_count": 36,
   "metadata": {},
   "outputs": [
    {
     "data": {
      "text/plain": [
       "'2022-02-01'"
      ]
     },
     "execution_count": 36,
     "metadata": {},
     "output_type": "execute_result"
    }
   ],
   "source": [
    "import datetime\n",
    "x = datetime.date.today()\n",
    "x.isoformat()"
   ]
  },
  {
   "cell_type": "code",
   "execution_count": 39,
   "metadata": {},
   "outputs": [
    {
     "data": {
      "text/plain": [
       "datetime.date(2021, 2, 1)"
      ]
     },
     "execution_count": 39,
     "metadata": {},
     "output_type": "execute_result"
    }
   ],
   "source": [
    "x = x.replace(year=2021) # replace year =\" \", month =\" \", day =\" \"\n",
    "x"
   ]
  },
  {
   "cell_type": "code",
   "execution_count": 43,
   "metadata": {},
   "outputs": [
    {
     "data": {
      "text/plain": [
       "'07:25:56'"
      ]
     },
     "execution_count": 43,
     "metadata": {},
     "output_type": "execute_result"
    }
   ],
   "source": [
    "y = datetime.time(7,25,56)\n",
    "y.isoformat()"
   ]
  },
  {
   "cell_type": "code",
   "execution_count": 45,
   "metadata": {},
   "outputs": [
    {
     "name": "stdout",
     "output_type": "stream",
     "text": [
      "23:59:59.999999\n"
     ]
    },
    {
     "data": {
      "text/plain": [
       "datetime.time(0, 0)"
      ]
     },
     "execution_count": 45,
     "metadata": {},
     "output_type": "execute_result"
    }
   ],
   "source": [
    "print(y.max)              # maximum time\n",
    "y.min                     # minimum time "
   ]
  },
  {
   "cell_type": "markdown",
   "metadata": {},
   "source": [
    "#### GUI (Graphical User Interface)"
   ]
  },
  {
   "cell_type": "code",
   "execution_count": 5,
   "metadata": {},
   "outputs": [
    {
     "data": {
      "application/vnd.jupyter.widget-view+json": {
       "model_id": "bf148b0b857643fabedb07e187d8df2d",
       "version_major": 2,
       "version_minor": 0
      },
      "text/plain": [
       "interactive(children=(Text(value='hello', description='x'), Output()), _dom_classes=('widget-interact',))"
      ]
     },
     "metadata": {},
     "output_type": "display_data"
    },
    {
     "data": {
      "application/vnd.jupyter.widget-view+json": {
       "model_id": "74265ee1e2b640ee8657fa2ac7707853",
       "version_major": 2,
       "version_minor": 0
      },
      "text/plain": [
       "interactive(children=(IntSlider(value=25, description='x', max=75, min=-25), Output()), _dom_classes=('widget-…"
      ]
     },
     "metadata": {},
     "output_type": "display_data"
    },
    {
     "data": {
      "application/vnd.jupyter.widget-view+json": {
       "model_id": "b94348f3dc5d49c6b296531c2f57f2c1",
       "version_major": 2,
       "version_minor": 0
      },
      "text/plain": [
       "interactive(children=(Checkbox(value=True, description='x'), Output()), _dom_classes=('widget-interact',))"
      ]
     },
     "metadata": {},
     "output_type": "display_data"
    }
   ],
   "source": [
    "import ipywidgets as widhets\n",
    "from IPython.display import display\n",
    "from ipywidgets import interact\n",
    "\n",
    "def fun3(x):\n",
    "    return x\n",
    "\n",
    "y = interact(fun3,x = 'hello')\n",
    "y1 = interact(fun3, x =25)\n",
    "y2 = interact(fun3, x = True)"
   ]
  },
  {
   "cell_type": "code",
   "execution_count": 14,
   "metadata": {},
   "outputs": [
    {
     "data": {
      "application/vnd.jupyter.widget-view+json": {
       "model_id": "e9b5f622daed44b58715cae0345e93db",
       "version_major": 2,
       "version_minor": 0
      },
      "text/plain": [
       "IntSlider(value=0)"
      ]
     },
     "metadata": {},
     "output_type": "display_data"
    },
    {
     "data": {
      "application/vnd.jupyter.widget-view+json": {
       "model_id": "4d3f2e11ef994a62bbf8a91b6cb0b9e9",
       "version_major": 2,
       "version_minor": 0
      },
      "text/plain": [
       "Button(description='press', style=ButtonStyle())"
      ]
     },
     "metadata": {},
     "output_type": "display_data"
    }
   ],
   "source": [
    "w = widhets.IntSlider()\n",
    "display(w)\n",
    "w1 =widhets.Button(description =\"press\")\n",
    "display(w1)"
   ]
  },
  {
   "cell_type": "code",
   "execution_count": 15,
   "metadata": {},
   "outputs": [
    {
     "data": {
      "text/plain": [
       "60"
      ]
     },
     "execution_count": 15,
     "metadata": {},
     "output_type": "execute_result"
    }
   ],
   "source": [
    "w.value"
   ]
  },
  {
   "cell_type": "code",
   "execution_count": 18,
   "metadata": {},
   "outputs": [
    {
     "data": {
      "application/vnd.jupyter.widget-view+json": {
       "model_id": "f64fa3c2f51543e28b7c491627f43f28",
       "version_major": 2,
       "version_minor": 0
      },
      "text/plain": [
       "FloatText(value=0.0)"
      ]
     },
     "metadata": {},
     "output_type": "display_data"
    },
    {
     "data": {
      "application/vnd.jupyter.widget-view+json": {
       "model_id": "652b4e548bb24ffb805f9e036675cda9",
       "version_major": 2,
       "version_minor": 0
      },
      "text/plain": [
       "FloatSlider(value=0.0)"
      ]
     },
     "metadata": {},
     "output_type": "display_data"
    }
   ],
   "source": [
    "# jslink is used to link two widgets and is written in javascript\n",
    "a = widhets.FloatText()\n",
    "b = widhets.FloatSlider()\n",
    "display(a,b)\n",
    "my_link =  widhets.jslink((a,\"value\"),(b,\"value\"))"
   ]
  },
  {
   "cell_type": "markdown",
   "metadata": {},
   "source": [
    "#### Tinker\n",
    "1. Import library\n",
    "2. Creat main window\n",
    "3. Add number of widgets\n",
    "4. Apply trigger on the widgets"
   ]
  },
  {
   "cell_type": "markdown",
   "metadata": {},
   "source": [
    "TK(screenname = None, basename = None, classname = \"TK\", useTK =1)-----------> by defalt\n",
    "___________________"
   ]
  },
  {
   "cell_type": "markdown",
   "metadata": {},
   "source": [
    "#### Geomtry in Tk:\n",
    "1. Pack( )\n",
    "2. Grid( )\n",
    "3. Place( )\n",
    "_________________"
   ]
  },
  {
   "cell_type": "markdown",
   "metadata": {},
   "source": [
    "#### Widgets in Tk:\n",
    "1. button\n",
    "2. canvas\n",
    "3. checkbutton\n",
    "4. entry\n",
    "5. frame\n",
    "6. lable\n",
    "7. listbox\n",
    "8. menubutton\n",
    "9. scrollbar\n",
    "10. radiobutton and etc\n",
    "____________________"
   ]
  },
  {
   "cell_type": "markdown",
   "metadata": {},
   "source": [
    "To run the tinker code use \"mainloop()\" function in the end of tinker code.\n",
    "___________\n",
    "_______________"
   ]
  },
  {
   "cell_type": "markdown",
   "metadata": {},
   "source": [
    "<h1> Thank you"
   ]
  }
 ],
 "metadata": {
  "interpreter": {
   "hash": "5c8a7a553ce91d77c6733e151ce4889e0ba9b48b7babcd392ee923e8343d96a9"
  },
  "kernelspec": {
   "display_name": "Python 3.9.5 64-bit",
   "language": "python",
   "name": "python3"
  },
  "language_info": {
   "codemirror_mode": {
    "name": "ipython",
    "version": 3
   },
   "file_extension": ".py",
   "mimetype": "text/x-python",
   "name": "python",
   "nbconvert_exporter": "python",
   "pygments_lexer": "ipython3",
   "version": "3.9.5"
  },
  "orig_nbformat": 4
 },
 "nbformat": 4,
 "nbformat_minor": 2
}
